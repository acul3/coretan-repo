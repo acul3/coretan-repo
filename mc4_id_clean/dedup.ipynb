{
 "cells": [
  {
   "cell_type": "code",
   "execution_count": 1,
   "id": "d0ac5a05",
   "metadata": {},
   "outputs": [
    {
     "name": "stderr",
     "output_type": "stream",
     "text": [
      "Warning : `load_model` does not return WordVectorModel or SupervisedModel any more, but a `FastText` object which is very similar.\n",
      "Using custom data configuration default-e7329fccc4e1ac15\n",
      "Reusing dataset csv (/data/cache/csv/default-e7329fccc4e1ac15/0.0.0/51cce309a08df9c4d82ffd9363bbe090bf173197fc01a71b034e8594995a1a58)\n"
     ]
    },
    {
     "data": {
      "application/vnd.jupyter.widget-view+json": {
       "model_id": "0ffb4cb8faac4276b5963927f21b4da0",
       "version_major": 2,
       "version_minor": 0
      },
      "text/plain": [
       "  0%|          | 0/1 [00:00<?, ?it/s]"
      ]
     },
     "metadata": {},
     "output_type": "display_data"
    }
   ],
   "source": [
    "import datasets\n",
    "from fastcore.utils import compose\n",
    "from clean_funcs import *\n",
    "import json\n",
    "import time\n",
    "\n",
    "import gzip\n",
    "import hashlib\n",
    "import multiprocessing\n",
    "import os\n",
    "import shutil\n",
    "import time\n",
    "from pathlib import Path\n",
    "import numpy as np\n",
    "from datasets import load_dataset\n",
    "from minhash_deduplication import deduplicate_dataset\n",
    "\n",
    "\n",
    "\n",
    "id_train_cleaned = datasets.load_dataset(\"csv\", data_files={\"train\": \"train.csv\"})    "
   ]
  },
  {
   "cell_type": "code",
   "execution_count": null,
   "id": "94f932a6",
   "metadata": {},
   "outputs": [],
   "source": [
    "!df -h"
   ]
  },
  {
   "cell_type": "code",
   "execution_count": 2,
   "id": "734b223d",
   "metadata": {},
   "outputs": [
    {
     "data": {
      "text/plain": [
       "DatasetDict({\n",
       "    train: Dataset({\n",
       "        features: ['text', 'timestamp', 'url'],\n",
       "        num_rows: 45147198\n",
       "    })\n",
       "})"
      ]
     },
     "execution_count": 2,
     "metadata": {},
     "output_type": "execute_result"
    }
   ],
   "source": [
    "id_train_cleaned"
   ]
  },
  {
   "cell_type": "code",
   "execution_count": null,
   "id": "4a85fab1",
   "metadata": {},
   "outputs": [],
   "source": [
    "id_train_cleaned['train']['url'][0]"
   ]
  },
  {
   "cell_type": "code",
   "execution_count": 2,
   "id": "d93665ea",
   "metadata": {},
   "outputs": [
    {
     "name": "stderr",
     "output_type": "stream",
     "text": [
      "0it [00:00, ?it/s]\n"
     ]
    },
    {
     "ename": "TypeError",
     "evalue": "string indices must be integers",
     "output_type": "error",
     "traceback": [
      "\u001b[0;31m---------------------------------------------------------------------------\u001b[0m",
      "\u001b[0;31mRemoteTraceback\u001b[0m                           Traceback (most recent call last)",
      "\u001b[0;31mRemoteTraceback\u001b[0m: \n\"\"\"\nTraceback (most recent call last):\n  File \"/usr/lib/python3.8/multiprocessing/pool.py\", line 125, in worker\n    result = (True, func(*args, **kwds))\n  File \"/usr/lib/python3.8/multiprocessing/pool.py\", line 48, in mapstar\n    return list(map(*args))\n  File \"/data/mc4_id_clean/minhash_deduplication.py\", line 97, in _compute_min_hash\n    min_hash = get_min_hash([t for t in NON_ALPHA.split(data[\"text\"]) if len(t.strip()) > 0])\nTypeError: string indices must be integers\n\"\"\"",
      "\nThe above exception was the direct cause of the following exception:\n",
      "\u001b[0;31mTypeError\u001b[0m                                 Traceback (most recent call last)",
      "Input \u001b[0;32mIn [2]\u001b[0m, in \u001b[0;36m<cell line: 2>\u001b[0;34m()\u001b[0m\n\u001b[1;32m      1\u001b[0m t_start \u001b[38;5;241m=\u001b[39m time\u001b[38;5;241m.\u001b[39mtime()\n\u001b[0;32m----> 2\u001b[0m ds_filter, duplicate_clusters \u001b[38;5;241m=\u001b[39m \u001b[43mdeduplicate_dataset\u001b[49m\u001b[43m(\u001b[49m\u001b[43mid_train_cleaned\u001b[49m\u001b[43m,\u001b[49m\u001b[38;5;241;43m0.75\u001b[39;49m\u001b[43m)\u001b[49m\n\u001b[1;32m      3\u001b[0m id_mc4_validation\u001b[38;5;241m.\u001b[39mcleanup_cache_files()\n\u001b[1;32m      4\u001b[0m \u001b[38;5;28;01mwith\u001b[39;00m \u001b[38;5;28mopen\u001b[39m(\u001b[38;5;124m'\u001b[39m\u001b[38;5;124m/data/mc4_id_clean/mc4_id/duplicate_clusters.json\u001b[39m\u001b[38;5;124m'\u001b[39m, \u001b[38;5;124m\"\u001b[39m\u001b[38;5;124mw\u001b[39m\u001b[38;5;124m\"\u001b[39m) \u001b[38;5;28;01mas\u001b[39;00m f:\n",
      "File \u001b[0;32m/data/mc4_id_clean/minhash_deduplication.py:238\u001b[0m, in \u001b[0;36mdeduplicate_dataset\u001b[0;34m(dataset, jaccard_threshold)\u001b[0m\n\u001b[1;32m    205\u001b[0m \u001b[38;5;28;01mdef\u001b[39;00m \u001b[38;5;21mdeduplicate_dataset\u001b[39m(\n\u001b[1;32m    206\u001b[0m     dataset: Type[Dataset], jaccard_threshold: \u001b[38;5;28mfloat\u001b[39m \u001b[38;5;241m=\u001b[39m \u001b[38;5;241m0.85\u001b[39m\n\u001b[1;32m    207\u001b[0m ) \u001b[38;5;241m-\u001b[39m\u001b[38;5;241m>\u001b[39m Tuple[Type[Dataset], List[List[Dict]]]:\n\u001b[1;32m    208\u001b[0m     \u001b[38;5;124;03m\"\"\"Deduplicate the dataset using minhash and jaccard similarity.\u001b[39;00m\n\u001b[1;32m    209\u001b[0m \u001b[38;5;124;03m    This function first generate duplicate clusters, then each cluster\u001b[39;00m\n\u001b[1;32m    210\u001b[0m \u001b[38;5;124;03m    is reduced to the extremes that are similar to the other elements in the cluster.\u001b[39;00m\n\u001b[0;32m   (...)\u001b[0m\n\u001b[1;32m    236\u001b[0m \u001b[38;5;124;03m        >>> ds_dedup, duplicate_clusters = deduplicate_dataset(ds, jaccard_threshold=0.85)\u001b[39;00m\n\u001b[1;32m    237\u001b[0m \u001b[38;5;124;03m    \"\"\"\u001b[39;00m\n\u001b[0;32m--> 238\u001b[0m     duplicate_clusters \u001b[38;5;241m=\u001b[39m \u001b[43mmake_duplicate_clusters\u001b[49m\u001b[43m(\u001b[49m\u001b[43mdataset\u001b[49m\u001b[43m,\u001b[49m\u001b[43m \u001b[49m\u001b[43mjaccard_threshold\u001b[49m\u001b[43m)\u001b[49m\n\u001b[1;32m    239\u001b[0m     duplicate_indices \u001b[38;5;241m=\u001b[39m \u001b[38;5;28mset\u001b[39m(x[\u001b[38;5;124m\"\u001b[39m\u001b[38;5;124mbase_index\u001b[39m\u001b[38;5;124m\"\u001b[39m] \u001b[38;5;28;01mfor\u001b[39;00m cluster \u001b[38;5;129;01min\u001b[39;00m duplicate_clusters \u001b[38;5;28;01mfor\u001b[39;00m x \u001b[38;5;129;01min\u001b[39;00m cluster)\n\u001b[1;32m    240\u001b[0m     extreme_dict \u001b[38;5;241m=\u001b[39m {}\n",
      "File \u001b[0;32m/data/mc4_id_clean/minhash_deduplication.py:122\u001b[0m, in \u001b[0;36mmake_duplicate_clusters\u001b[0;34m(dataset_iterator, jaccard_threshold)\u001b[0m\n\u001b[1;32m    114\u001b[0m \u001b[38;5;124;03m\"\"\"Find duplicate clusters in the dataset in two steps:\u001b[39;00m\n\u001b[1;32m    115\u001b[0m \u001b[38;5;124;03m1. Compute MinHash for each code snippet. MinHash is a tool for fast jaccard similarity estimation.\u001b[39;00m\n\u001b[1;32m    116\u001b[0m \u001b[38;5;124;03mThis step is computed using an asynchronous multiprocessing pool, minhash_iter\u001b[39;00m\n\u001b[1;32m    117\u001b[0m \u001b[38;5;124;03m2. Find duplicate clusters. The computed MinHash is added sequentially to the DuplicationIndex.\u001b[39;00m\n\u001b[1;32m    118\u001b[0m \u001b[38;5;124;03mThis step cannot be parallelized. So using asynchronous thread in the previous step helps to speed up the process.\u001b[39;00m\n\u001b[1;32m    119\u001b[0m \u001b[38;5;124;03m\"\"\"\u001b[39;00m\n\u001b[1;32m    120\u001b[0m di \u001b[38;5;241m=\u001b[39m DuplicationIndex(duplication_jaccard_threshold\u001b[38;5;241m=\u001b[39mjaccard_threshold)\n\u001b[0;32m--> 122\u001b[0m \u001b[38;5;28;01mfor\u001b[39;00m filename, min_hash \u001b[38;5;129;01min\u001b[39;00m tqdm(ThreadedIterator(minhash_iter(\u001b[38;5;28menumerate\u001b[39m(dataset_iterator)), max_queue_size\u001b[38;5;241m=\u001b[39m\u001b[38;5;241m100\u001b[39m)):\n\u001b[1;32m    123\u001b[0m     di\u001b[38;5;241m.\u001b[39madd(filename, min_hash)\n\u001b[1;32m    125\u001b[0m \u001b[38;5;66;03m# Returns a List[Cluster] where Cluster is List[str] with the filenames.\u001b[39;00m\n",
      "File \u001b[0;32m~/.local/lib/python3.8/site-packages/tqdm/std.py:1195\u001b[0m, in \u001b[0;36mtqdm.__iter__\u001b[0;34m(self)\u001b[0m\n\u001b[1;32m   1192\u001b[0m time \u001b[38;5;241m=\u001b[39m \u001b[38;5;28mself\u001b[39m\u001b[38;5;241m.\u001b[39m_time\n\u001b[1;32m   1194\u001b[0m \u001b[38;5;28;01mtry\u001b[39;00m:\n\u001b[0;32m-> 1195\u001b[0m     \u001b[38;5;28;01mfor\u001b[39;00m obj \u001b[38;5;129;01min\u001b[39;00m iterable:\n\u001b[1;32m   1196\u001b[0m         \u001b[38;5;28;01myield\u001b[39;00m obj\n\u001b[1;32m   1197\u001b[0m         \u001b[38;5;66;03m# Update and possibly print the progressbar.\u001b[39;00m\n\u001b[1;32m   1198\u001b[0m         \u001b[38;5;66;03m# Note: does not call self.update(1) for speed optimisation.\u001b[39;00m\n",
      "File \u001b[0;32m~/.local/lib/python3.8/site-packages/dpu_utils/utils/iterators.py:47\u001b[0m, in \u001b[0;36mThreadedIterator.__next__\u001b[0;34m(self)\u001b[0m\n\u001b[1;32m     45\u001b[0m     \u001b[38;5;28;01mraise\u001b[39;00m \u001b[38;5;167;01mStopIteration\u001b[39;00m\n\u001b[1;32m     46\u001b[0m \u001b[38;5;28;01mif\u001b[39;00m \u001b[38;5;28misinstance\u001b[39m(next_element, \u001b[38;5;28mtuple\u001b[39m) \u001b[38;5;129;01mand\u001b[39;00m \u001b[38;5;28misinstance\u001b[39m(next_element[\u001b[38;5;241m0\u001b[39m], \u001b[38;5;167;01mException\u001b[39;00m):\n\u001b[0;32m---> 47\u001b[0m     \u001b[38;5;28;01mraise\u001b[39;00m next_element[\u001b[38;5;241m0\u001b[39m]\u001b[38;5;241m.\u001b[39mwith_traceback(next_element[\u001b[38;5;241m1\u001b[39m])\n\u001b[1;32m     48\u001b[0m \u001b[38;5;28;01mreturn\u001b[39;00m next_element\n",
      "File \u001b[0;32m~/.local/lib/python3.8/site-packages/dpu_utils/utils/iterators.py:32\u001b[0m, in \u001b[0;36mThreadedIterator.__worker\u001b[0;34m(queue, original_iterator)\u001b[0m\n\u001b[1;32m     29\u001b[0m \u001b[38;5;129m@staticmethod\u001b[39m\n\u001b[1;32m     30\u001b[0m \u001b[38;5;28;01mdef\u001b[39;00m \u001b[38;5;21m__worker\u001b[39m(queue: queue\u001b[38;5;241m.\u001b[39mQueue, original_iterator: Iterator[T])\u001b[38;5;241m-\u001b[39m\u001b[38;5;241m>\u001b[39m \u001b[38;5;28;01mNone\u001b[39;00m:\n\u001b[1;32m     31\u001b[0m     \u001b[38;5;28;01mtry\u001b[39;00m:\n\u001b[0;32m---> 32\u001b[0m         \u001b[38;5;28;01mfor\u001b[39;00m element \u001b[38;5;129;01min\u001b[39;00m original_iterator:\n\u001b[1;32m     33\u001b[0m             \u001b[38;5;28;01massert\u001b[39;00m element \u001b[38;5;129;01mis\u001b[39;00m \u001b[38;5;129;01mnot\u001b[39;00m \u001b[38;5;28;01mNone\u001b[39;00m, \u001b[38;5;124m'\u001b[39m\u001b[38;5;124mBy convention, Iterables wrapped in ThreadedIterator may not contain None.\u001b[39m\u001b[38;5;124m'\u001b[39m\n\u001b[1;32m     34\u001b[0m             queue\u001b[38;5;241m.\u001b[39mput(element, block\u001b[38;5;241m=\u001b[39m\u001b[38;5;28;01mTrue\u001b[39;00m)\n",
      "File \u001b[0;32m/data/mc4_id_clean/minhash_deduplication.py:104\u001b[0m, in \u001b[0;36mminhash_iter\u001b[0;34m(dataset_iterator)\u001b[0m\n\u001b[1;32m    102\u001b[0m \u001b[38;5;28;01mdef\u001b[39;00m \u001b[38;5;21mminhash_iter\u001b[39m(dataset_iterator: Type[Dataset]):\n\u001b[1;32m    103\u001b[0m     \u001b[38;5;28;01mwith\u001b[39;00m mp\u001b[38;5;241m.\u001b[39mPool() \u001b[38;5;28;01mas\u001b[39;00m pool:\n\u001b[0;32m--> 104\u001b[0m         \u001b[38;5;28;01mfor\u001b[39;00m data \u001b[38;5;129;01min\u001b[39;00m pool\u001b[38;5;241m.\u001b[39mimap_unordered(\n\u001b[1;32m    105\u001b[0m             _compute_min_hash,\n\u001b[1;32m    106\u001b[0m             ThreadedIterator(dataset_iterator, max_queue_size\u001b[38;5;241m=\u001b[39m\u001b[38;5;241m10000\u001b[39m),\n\u001b[1;32m    107\u001b[0m             chunksize\u001b[38;5;241m=\u001b[39m\u001b[38;5;241m100\u001b[39m,\n\u001b[1;32m    108\u001b[0m         ):\n\u001b[1;32m    109\u001b[0m             \u001b[38;5;28;01mif\u001b[39;00m data \u001b[38;5;129;01mis\u001b[39;00m \u001b[38;5;129;01mnot\u001b[39;00m \u001b[38;5;28;01mNone\u001b[39;00m:\n\u001b[1;32m    110\u001b[0m                 \u001b[38;5;28;01myield\u001b[39;00m data\n",
      "File \u001b[0;32m/usr/lib/python3.8/multiprocessing/pool.py:448\u001b[0m, in \u001b[0;36m<genexpr>\u001b[0;34m(.0)\u001b[0m\n\u001b[1;32m    440\u001b[0m result \u001b[38;5;241m=\u001b[39m IMapUnorderedIterator(\u001b[38;5;28mself\u001b[39m)\n\u001b[1;32m    441\u001b[0m \u001b[38;5;28mself\u001b[39m\u001b[38;5;241m.\u001b[39m_taskqueue\u001b[38;5;241m.\u001b[39mput(\n\u001b[1;32m    442\u001b[0m     (\n\u001b[1;32m    443\u001b[0m         \u001b[38;5;28mself\u001b[39m\u001b[38;5;241m.\u001b[39m_guarded_task_generation(result\u001b[38;5;241m.\u001b[39m_job,\n\u001b[0;32m   (...)\u001b[0m\n\u001b[1;32m    446\u001b[0m         result\u001b[38;5;241m.\u001b[39m_set_length\n\u001b[1;32m    447\u001b[0m     ))\n\u001b[0;32m--> 448\u001b[0m \u001b[38;5;28;01mreturn\u001b[39;00m (item \u001b[38;5;28;01mfor\u001b[39;00m chunk \u001b[38;5;129;01min\u001b[39;00m result \u001b[38;5;28;01mfor\u001b[39;00m item \u001b[38;5;129;01min\u001b[39;00m chunk)\n",
      "File \u001b[0;32m/usr/lib/python3.8/multiprocessing/pool.py:868\u001b[0m, in \u001b[0;36mIMapIterator.next\u001b[0;34m(self, timeout)\u001b[0m\n\u001b[1;32m    866\u001b[0m \u001b[38;5;28;01mif\u001b[39;00m success:\n\u001b[1;32m    867\u001b[0m     \u001b[38;5;28;01mreturn\u001b[39;00m value\n\u001b[0;32m--> 868\u001b[0m \u001b[38;5;28;01mraise\u001b[39;00m value\n",
      "\u001b[0;31mTypeError\u001b[0m: string indices must be integers"
     ]
    }
   ],
   "source": [
    "t_start = time.time()\n",
    "ds_filter, duplicate_clusters = deduplicate_dataset(id_train_cleaned,0.75)\n",
    "id_mc4_validation.cleanup_cache_files()\n",
    "with open('/data/mc4_id_clean/mc4_id/duplicate_clusters.json', \"w\") as f:\n",
    "    json.dump(duplicate_clusters, f)\n",
    "print(f\"Time to deduplicate dataset: {time.time()-t_start:.2f}\")\n",
    "print(f\"Size of original dataset: {len(id_train_cleaned)}\")\n",
    "print(f\"Size of deduplicate dataset: {len(ds_filter)}\")\n",
    "\n",
    "print(ds_filter)"
   ]
  },
  {
   "cell_type": "code",
   "execution_count": 10,
   "id": "39ddf59e",
   "metadata": {},
   "outputs": [
    {
     "data": {
      "text/plain": [
       "6"
      ]
     },
     "execution_count": 10,
     "metadata": {},
     "output_type": "execute_result"
    }
   ],
   "source": [
    "ds_filter.cleanup_cache_files()"
   ]
  },
  {
   "cell_type": "code",
   "execution_count": 11,
   "id": "e7ce0fb7",
   "metadata": {},
   "outputs": [
    {
     "data": {
      "text/plain": [
       "Dataset({\n",
       "    features: ['text', 'timestamp', 'url'],\n",
       "    num_rows: 67391\n",
       "})"
      ]
     },
     "execution_count": 11,
     "metadata": {},
     "output_type": "execute_result"
    }
   ],
   "source": [
    "ds_filter"
   ]
  },
  {
   "cell_type": "code",
   "execution_count": null,
   "id": "0f5a79d8",
   "metadata": {},
   "outputs": [],
   "source": [
    "import multiprocessing as mp\n"
   ]
  }
 ],
 "metadata": {
  "kernelspec": {
   "display_name": "Python 3 (ipykernel)",
   "language": "python",
   "name": "python3"
  },
  "language_info": {
   "codemirror_mode": {
    "name": "ipython",
    "version": 3
   },
   "file_extension": ".py",
   "mimetype": "text/x-python",
   "name": "python",
   "nbconvert_exporter": "python",
   "pygments_lexer": "ipython3",
   "version": "3.8.10"
  }
 },
 "nbformat": 4,
 "nbformat_minor": 5
}
